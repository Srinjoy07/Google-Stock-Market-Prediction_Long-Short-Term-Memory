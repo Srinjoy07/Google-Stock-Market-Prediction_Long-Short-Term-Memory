{
 "cells": [
  {
   "cell_type": "code",
   "execution_count": 21,
   "id": "6e098f7f-047d-4b22-a04c-df5eaee82342",
   "metadata": {},
   "outputs": [],
   "source": [
    "import numpy as np \n",
    "import pandas as pd \n",
    "import matplotlib.pyplot as plt \n",
    "from sklearn.preprocessing import MinMaxScaler\n",
    "from keras.models import Sequential\n",
    "from keras.layers import Dense,LSTM,Dropout"
   ]
  },
  {
   "cell_type": "code",
   "execution_count": 22,
   "id": "5f2abcbe-11a4-47de-b52e-b04bf466545d",
   "metadata": {},
   "outputs": [
    {
     "data": {
      "text/html": [
       "<div>\n",
       "<style scoped>\n",
       "    .dataframe tbody tr th:only-of-type {\n",
       "        vertical-align: middle;\n",
       "    }\n",
       "\n",
       "    .dataframe tbody tr th {\n",
       "        vertical-align: top;\n",
       "    }\n",
       "\n",
       "    .dataframe thead th {\n",
       "        text-align: right;\n",
       "    }\n",
       "</style>\n",
       "<table border=\"1\" class=\"dataframe\">\n",
       "  <thead>\n",
       "    <tr style=\"text-align: right;\">\n",
       "      <th></th>\n",
       "      <th>Date</th>\n",
       "      <th>Open</th>\n",
       "      <th>High</th>\n",
       "      <th>Low</th>\n",
       "      <th>Close</th>\n",
       "      <th>Volume</th>\n",
       "    </tr>\n",
       "  </thead>\n",
       "  <tbody>\n",
       "    <tr>\n",
       "      <th>0</th>\n",
       "      <td>1/3/2012</td>\n",
       "      <td>325.25</td>\n",
       "      <td>332.83</td>\n",
       "      <td>324.97</td>\n",
       "      <td>663.59</td>\n",
       "      <td>7,380,500</td>\n",
       "    </tr>\n",
       "    <tr>\n",
       "      <th>1</th>\n",
       "      <td>1/4/2012</td>\n",
       "      <td>331.27</td>\n",
       "      <td>333.87</td>\n",
       "      <td>329.08</td>\n",
       "      <td>666.45</td>\n",
       "      <td>5,749,400</td>\n",
       "    </tr>\n",
       "    <tr>\n",
       "      <th>2</th>\n",
       "      <td>1/5/2012</td>\n",
       "      <td>329.83</td>\n",
       "      <td>330.75</td>\n",
       "      <td>326.89</td>\n",
       "      <td>657.21</td>\n",
       "      <td>6,590,300</td>\n",
       "    </tr>\n",
       "    <tr>\n",
       "      <th>3</th>\n",
       "      <td>1/6/2012</td>\n",
       "      <td>328.34</td>\n",
       "      <td>328.77</td>\n",
       "      <td>323.68</td>\n",
       "      <td>648.24</td>\n",
       "      <td>5,405,900</td>\n",
       "    </tr>\n",
       "    <tr>\n",
       "      <th>4</th>\n",
       "      <td>1/9/2012</td>\n",
       "      <td>322.04</td>\n",
       "      <td>322.29</td>\n",
       "      <td>309.46</td>\n",
       "      <td>620.76</td>\n",
       "      <td>11,688,800</td>\n",
       "    </tr>\n",
       "  </tbody>\n",
       "</table>\n",
       "</div>"
      ],
      "text/plain": [
       "       Date    Open    High     Low   Close      Volume\n",
       "0  1/3/2012  325.25  332.83  324.97  663.59   7,380,500\n",
       "1  1/4/2012  331.27  333.87  329.08  666.45   5,749,400\n",
       "2  1/5/2012  329.83  330.75  326.89  657.21   6,590,300\n",
       "3  1/6/2012  328.34  328.77  323.68  648.24   5,405,900\n",
       "4  1/9/2012  322.04  322.29  309.46  620.76  11,688,800"
      ]
     },
     "execution_count": 22,
     "metadata": {},
     "output_type": "execute_result"
    }
   ],
   "source": [
    "data = pd.read_csv('Google_train_data.csv')\n",
    "data.head()"
   ]
  },
  {
   "cell_type": "code",
   "execution_count": 23,
   "id": "b39f3493-67af-4882-ac1f-0ec4e3d67bb7",
   "metadata": {},
   "outputs": [
    {
     "name": "stdout",
     "output_type": "stream",
     "text": [
      "<class 'pandas.core.frame.DataFrame'>\n",
      "RangeIndex: 1258 entries, 0 to 1257\n",
      "Data columns (total 6 columns):\n",
      " #   Column  Non-Null Count  Dtype  \n",
      "---  ------  --------------  -----  \n",
      " 0   Date    1258 non-null   object \n",
      " 1   Open    1258 non-null   float64\n",
      " 2   High    1258 non-null   float64\n",
      " 3   Low     1258 non-null   float64\n",
      " 4   Close   1258 non-null   object \n",
      " 5   Volume  1258 non-null   object \n",
      "dtypes: float64(3), object(3)\n",
      "memory usage: 59.1+ KB\n"
     ]
    }
   ],
   "source": [
    "data.info()"
   ]
  },
  {
   "cell_type": "code",
   "execution_count": 1,
   "id": "941dc197",
   "metadata": {},
   "outputs": [
    {
     "ename": "NameError",
     "evalue": "name 'pd' is not defined",
     "output_type": "error",
     "traceback": [
      "\u001b[1;31m---------------------------------------------------------------------------\u001b[0m",
      "\u001b[1;31mNameError\u001b[0m                                 Traceback (most recent call last)",
      "Cell \u001b[1;32mIn[1], line 1\u001b[0m\n\u001b[1;32m----> 1\u001b[0m tesla[\u001b[38;5;124m'\u001b[39m\u001b[38;5;124mDate\u001b[39m\u001b[38;5;124m'\u001b[39m] \u001b[38;5;241m=\u001b[39m \u001b[43mpd\u001b[49m\u001b[38;5;241m.\u001b[39mto_datetime(tesla[\u001b[38;5;124m'\u001b[39m\u001b[38;5;124mDate\u001b[39m\u001b[38;5;124m'\u001b[39m],dayfirst\u001b[38;5;241m=\u001b[39m\u001b[38;5;28;01mTrue\u001b[39;00m)   \n",
      "\u001b[1;31mNameError\u001b[0m: name 'pd' is not defined"
     ]
    }
   ],
   "source": [
    "tesla['Date'] = pd.to_datetime(tesla['Date'],dayfirst=True)   "
   ]
  },
  {
   "cell_type": "code",
   "execution_count": 24,
   "id": "b611be8e-404a-4ed3-bda2-bd56ca835388",
   "metadata": {},
   "outputs": [],
   "source": [
    "data[\"Close\"]=pd.to_numeric(data.Close,errors='coerce')\n",
    "data = data.dropna()\n",
    "trainData = data.iloc[:,4:5].values"
   ]
  },
  {
   "cell_type": "code",
   "execution_count": 25,
   "id": "7bb94ea9-dce3-4708-bad2-3a6d4c68f4f4",
   "metadata": {},
   "outputs": [
    {
     "name": "stdout",
     "output_type": "stream",
     "text": [
      "<class 'pandas.core.frame.DataFrame'>\n",
      "Index: 1149 entries, 0 to 1257\n",
      "Data columns (total 6 columns):\n",
      " #   Column  Non-Null Count  Dtype  \n",
      "---  ------  --------------  -----  \n",
      " 0   Date    1149 non-null   object \n",
      " 1   Open    1149 non-null   float64\n",
      " 2   High    1149 non-null   float64\n",
      " 3   Low     1149 non-null   float64\n",
      " 4   Close   1149 non-null   float64\n",
      " 5   Volume  1149 non-null   object \n",
      "dtypes: float64(4), object(2)\n",
      "memory usage: 62.8+ KB\n"
     ]
    }
   ],
   "source": [
    "data.info()"
   ]
  },
  {
   "cell_type": "code",
   "execution_count": 6,
   "id": "6cfd05f4-133d-4786-932c-6dc7ef899c3f",
   "metadata": {},
   "outputs": [
    {
     "data": {
      "text/plain": [
       "(1149, 1)"
      ]
     },
     "execution_count": 6,
     "metadata": {},
     "output_type": "execute_result"
    }
   ],
   "source": [
    "#scaling the data from 0 to 1\n",
    "sc = MinMaxScaler(feature_range=(0,1))\n",
    "trainData = sc.fit_transform(trainData)\n",
    "trainData.shape"
   ]
  },
  {
   "cell_type": "code",
   "execution_count": 7,
   "id": "30ffd932-53f6-49f9-ae63-05b72229ac9c",
   "metadata": {},
   "outputs": [],
   "source": [
    "X_train = []\n",
    "y_train = []\n",
    "\n",
    "for i in range (60,1149): #60 : timestep // 1149 : length of the data\n",
    "    X_train.append(trainData[i-60:i,0]) \n",
    "    y_train.append(trainData[i,0])\n",
    "\n",
    "X_train,y_train = np.array(X_train),np.array(y_train)"
   ]
  },
  {
   "cell_type": "code",
   "execution_count": 8,
   "id": "b3ead5eb-b430-4dfc-add9-5985796d5d15",
   "metadata": {},
   "outputs": [
    {
     "data": {
      "text/plain": [
       "(1089, 60, 1)"
      ]
     },
     "execution_count": 8,
     "metadata": {},
     "output_type": "execute_result"
    }
   ],
   "source": [
    "X_train = np.reshape(X_train,(X_train.shape[0],X_train.shape[1],1)) #adding the batch_size axis\n",
    "X_train.shape"
   ]
  },
  {
   "cell_type": "code",
   "execution_count": 9,
   "id": "fcd1a249-97c0-4947-9f24-c149bd34d218",
   "metadata": {},
   "outputs": [],
   "source": [
    "model = Sequential()\n",
    "\n",
    "model.add(LSTM(units=100, return_sequences = True, input_shape =(X_train.shape[1],1)))\n",
    "model.add(Dropout(0.2))\n",
    "\n",
    "model.add(LSTM(units=100, return_sequences = True))\n",
    "model.add(Dropout(0.2))\n",
    "\n",
    "model.add(LSTM(units=100, return_sequences = True))\n",
    "model.add(Dropout(0.2))\n",
    "\n",
    "model.add(LSTM(units=100, return_sequences = False))\n",
    "model.add(Dropout(0.2))\n",
    "\n",
    "model.add(Dense(units =1))\n",
    "model.compile(optimizer='adam',loss=\"mean_squared_error\")"
   ]
  },
  {
   "cell_type": "code",
   "execution_count": 10,
   "id": "defe6899-ed9e-470d-bc72-e064dd922933",
   "metadata": {},
   "outputs": [
    {
     "name": "stdout",
     "output_type": "stream",
     "text": [
      "Epoch 1/20\n",
      "35/35 - 20s - loss: 0.0284 - 20s/epoch - 578ms/step\n",
      "Epoch 2/20\n",
      "35/35 - 6s - loss: 0.0096 - 6s/epoch - 158ms/step\n",
      "Epoch 3/20\n",
      "35/35 - 6s - loss: 0.0106 - 6s/epoch - 173ms/step\n",
      "Epoch 4/20\n",
      "35/35 - 7s - loss: 0.0076 - 7s/epoch - 199ms/step\n",
      "Epoch 5/20\n",
      "35/35 - 7s - loss: 0.0080 - 7s/epoch - 214ms/step\n",
      "Epoch 6/20\n",
      "35/35 - 8s - loss: 0.0088 - 8s/epoch - 224ms/step\n",
      "Epoch 7/20\n",
      "35/35 - 6s - loss: 0.0065 - 6s/epoch - 179ms/step\n",
      "Epoch 8/20\n",
      "35/35 - 7s - loss: 0.0097 - 7s/epoch - 210ms/step\n",
      "Epoch 9/20\n",
      "35/35 - 7s - loss: 0.0064 - 7s/epoch - 190ms/step\n",
      "Epoch 10/20\n",
      "35/35 - 7s - loss: 0.0058 - 7s/epoch - 193ms/step\n",
      "Epoch 11/20\n",
      "35/35 - 7s - loss: 0.0054 - 7s/epoch - 191ms/step\n",
      "Epoch 12/20\n",
      "35/35 - 6s - loss: 0.0059 - 6s/epoch - 178ms/step\n",
      "Epoch 13/20\n",
      "35/35 - 7s - loss: 0.0061 - 7s/epoch - 198ms/step\n",
      "Epoch 14/20\n",
      "35/35 - 6s - loss: 0.0062 - 6s/epoch - 176ms/step\n",
      "Epoch 15/20\n",
      "35/35 - 6s - loss: 0.0054 - 6s/epoch - 184ms/step\n",
      "Epoch 16/20\n",
      "35/35 - 7s - loss: 0.0047 - 7s/epoch - 190ms/step\n",
      "Epoch 17/20\n",
      "35/35 - 6s - loss: 0.0061 - 6s/epoch - 178ms/step\n",
      "Epoch 18/20\n",
      "35/35 - 7s - loss: 0.0072 - 7s/epoch - 194ms/step\n",
      "Epoch 19/20\n",
      "35/35 - 6s - loss: 0.0049 - 6s/epoch - 179ms/step\n",
      "Epoch 20/20\n",
      "35/35 - 7s - loss: 0.0045 - 7s/epoch - 195ms/step\n"
     ]
    }
   ],
   "source": [
    "hist = model.fit(X_train, y_train, epochs = 20, batch_size = 32, verbose=2)"
   ]
  },
  {
   "cell_type": "code",
   "execution_count": 16,
   "id": "31efcd6c-b3e7-4280-85d0-60144fb7b9ed",
   "metadata": {},
   "outputs": [
    {
     "data": {
      "image/png": "[encoded data removed]",
      "text/plain": [
       "<Figure size 640x480 with 1 Axes>"
      ]
     },
     "metadata": {},
     "output_type": "display_data"
    }
   ],
   "source": [
    "plt.plot(hist.history['loss'])\n",
    "plt.title('Training model loss')\n",
    "plt.ylabel('loss')\n",
    "plt.xlabel('epoch')\n",
    "plt.legend(['train'], loc='upper left')\n",
    "plt.show()"
   ]
  },
  {
   "cell_type": "code",
   "execution_count": 17,
   "id": "a52cdbdb-b284-4d1f-ad97-e577ab29bb31",
   "metadata": {},
   "outputs": [
    {
     "data": {
      "text/plain": [
       "(192, 60, 1)"
      ]
     },
     "execution_count": 17,
     "metadata": {},
     "output_type": "execute_result"
    }
   ],
   "source": [
    "testData = pd.read_csv('Google_test_data.csv')\n",
    "testData[\"Close\"]=pd.to_numeric(testData.Close,errors='coerce')\n",
    "testData = testData.dropna()\n",
    "testData = testData.iloc[:,4:5]\n",
    "y_test = testData.iloc[60:,0:].values \n",
    "#input array for the model\n",
    "inputClosing = testData.iloc[:,0:].values \n",
    "inputClosing_scaled = sc.transform(inputClosing)\n",
    "inputClosing_scaled.shape\n",
    "X_test = []\n",
    "length = len(testData)\n",
    "timestep = 60\n",
    "for i in range(timestep,length):  \n",
    "    X_test.append(inputClosing_scaled[i-timestep:i,0])\n",
    "X_test = np.array(X_test)\n",
    "X_test = np.reshape(X_test,(X_test.shape[0],X_test.shape[1],1))\n",
    "X_test.shape"
   ]
  },
  {
   "cell_type": "code",
   "execution_count": 18,
   "id": "c2b22b99-4a55-4e62-b594-a2211649445e",
   "metadata": {},
   "outputs": [
    {
     "name": "stdout",
     "output_type": "stream",
     "text": [
      "6/6 [==============================] - 0s 45ms/step\n"
     ]
    },
    {
     "data": {
      "text/plain": [
       "array([[1.1884329],\n",
       "       [1.1911125],\n",
       "       [1.2028228],\n",
       "       [1.2201662],\n",
       "       [1.2334269],\n",
       "       [1.2318419],\n",
       "       [1.216776 ],\n",
       "       [1.1973727],\n",
       "       [1.1858789],\n",
       "       [1.1841321],\n",
       "       [1.1787362],\n",
       "       [1.168447 ],\n",
       "       [1.1591007],\n",
       "       [1.1502687],\n",
       "       [1.148913 ],\n",
       "       [1.1541617],\n",
       "       [1.1734815],\n",
       "       [1.2031269],\n",
       "       [1.2361027],\n",
       "       [1.2678783],\n",
       "       [1.2784983],\n",
       "       [1.2723958],\n",
       "       [1.2493124],\n",
       "       [1.2186117],\n",
       "       [1.192597 ],\n",
       "       [1.1796963],\n",
       "       [1.1792117],\n",
       "       [1.1815212],\n",
       "       [1.1756263],\n",
       "       [1.1647964],\n",
       "       [1.1521095],\n",
       "       [1.1374676],\n",
       "       [1.1158195],\n",
       "       [1.0895333],\n",
       "       [1.0794216],\n",
       "       [1.0902846],\n",
       "       [1.1139244],\n",
       "       [1.1398348],\n",
       "       [1.1632615],\n",
       "       [1.1734607],\n",
       "       [1.1839725],\n",
       "       [1.1977789],\n",
       "       [1.2148008],\n",
       "       [1.2310497],\n",
       "       [1.2420584],\n",
       "       [1.2432173],\n",
       "       [1.2329544],\n",
       "       [1.224392 ],\n",
       "       [1.2232399],\n",
       "       [1.2310463],\n",
       "       [1.246226 ],\n",
       "       [1.2562575],\n",
       "       [1.2588639],\n",
       "       [1.2553226],\n",
       "       [1.2532411],\n",
       "       [1.2491956],\n",
       "       [1.2405463],\n",
       "       [1.236586 ],\n",
       "       [1.2465416],\n",
       "       [1.2657946],\n",
       "       [1.2928035],\n",
       "       [1.3243603],\n",
       "       [1.3450189],\n",
       "       [1.3464435],\n",
       "       [1.3319607],\n",
       "       [1.3101931],\n",
       "       [1.296189 ],\n",
       "       [1.2930927],\n",
       "       [1.2985536],\n",
       "       [1.3057073],\n",
       "       [1.3122307],\n",
       "       [1.3156004],\n",
       "       [1.3111758],\n",
       "       [1.3046298],\n",
       "       [1.2991145],\n",
       "       [1.2974693],\n",
       "       [1.2995874],\n",
       "       [1.3048213],\n",
       "       [1.3169689],\n",
       "       [1.3350403],\n",
       "       [1.3580453],\n",
       "       [1.3794479],\n",
       "       [1.3906168],\n",
       "       [1.3908451],\n",
       "       [1.3933688],\n",
       "       [1.405689 ],\n",
       "       [1.4243296],\n",
       "       [1.4405719],\n",
       "       [1.4498836],\n",
       "       [1.4520729],\n",
       "       [1.453598 ],\n",
       "       [1.4634516],\n",
       "       [1.4814855],\n",
       "       [1.4937437],\n",
       "       [1.4927919],\n",
       "       [1.4792893],\n",
       "       [1.4567438],\n",
       "       [1.4314078],\n",
       "       [1.4110208],\n",
       "       [1.404952 ],\n",
       "       [1.4132323],\n",
       "       [1.4309416],\n",
       "       [1.4532605],\n",
       "       [1.471555 ],\n",
       "       [1.4813237],\n",
       "       [1.4812224],\n",
       "       [1.4760936],\n",
       "       [1.4705242],\n",
       "       [1.4705036],\n",
       "       [1.4763362],\n",
       "       [1.486631 ],\n",
       "       [1.5003728],\n",
       "       [1.5137829],\n",
       "       [1.52757  ],\n",
       "       [1.5442507],\n",
       "       [1.55794  ],\n",
       "       [1.5681479],\n",
       "       [1.5769182],\n",
       "       [1.5883955],\n",
       "       [1.5699342],\n",
       "       [1.5219657],\n",
       "       [1.461766 ],\n",
       "       [1.4141192],\n",
       "       [1.3891624],\n",
       "       [1.3806772],\n",
       "       [1.3799915],\n",
       "       [1.3811713],\n",
       "       [1.382803 ],\n",
       "       [1.375305 ],\n",
       "       [1.357426 ],\n",
       "       [1.3478754],\n",
       "       [1.3549389],\n",
       "       [1.3693483],\n",
       "       [1.3768115],\n",
       "       [1.3778788],\n",
       "       [1.3757571],\n",
       "       [1.3699653],\n",
       "       [1.3604331],\n",
       "       [1.3500172],\n",
       "       [1.3363776],\n",
       "       [1.3223115],\n",
       "       [1.3068467],\n",
       "       [1.2738736],\n",
       "       [1.2338613],\n",
       "       [1.195101 ],\n",
       "       [1.165371 ],\n",
       "       [1.1535306],\n",
       "       [1.1619809],\n",
       "       [1.1835167],\n",
       "       [1.2083372],\n",
       "       [1.2323798],\n",
       "       [1.2510811],\n",
       "       [1.2645553],\n",
       "       [1.2760032],\n",
       "       [1.2852732],\n",
       "       [1.2941194],\n",
       "       [1.3047438],\n",
       "       [1.3138776],\n",
       "       [1.3116053],\n",
       "       [1.297345 ],\n",
       "       [1.2760662],\n",
       "       [1.2558239],\n",
       "       [1.2458369],\n",
       "       [1.250261 ],\n",
       "       [1.2675922],\n",
       "       [1.2932715],\n",
       "       [1.3153487],\n",
       "       [1.3308026],\n",
       "       [1.3435156],\n",
       "       [1.3549929],\n",
       "       [1.3645416],\n",
       "       [1.3725919],\n",
       "       [1.3793813],\n",
       "       [1.3822244],\n",
       "       [1.3811618],\n",
       "       [1.3730307],\n",
       "       [1.3627465],\n",
       "       [1.3561757],\n",
       "       [1.3521528],\n",
       "       [1.3482407],\n",
       "       [1.3776608],\n",
       "       [1.4313105],\n",
       "       [1.4847527],\n",
       "       [1.5200095],\n",
       "       [1.5315955],\n",
       "       [1.5210007],\n",
       "       [1.4861139],\n",
       "       [1.445659 ],\n",
       "       [1.4133763],\n",
       "       [1.4034259],\n",
       "       [1.4080111],\n",
       "       [1.4148839]], dtype=float32)"
      ]
     },
     "execution_count": 18,
     "metadata": {},
     "output_type": "execute_result"
    }
   ],
   "source": [
    "y_pred = model.predict(X_test)\n",
    "y_pred"
   ]
  },
  {
   "cell_type": "code",
   "execution_count": 19,
   "id": "aa92428c-8ac8-4b11-ba53-54c283c08e81",
   "metadata": {},
   "outputs": [],
   "source": [
    "predicted_price = sc.inverse_transform(y_pred)"
   ]
  },
  {
   "cell_type": "code",
   "execution_count": 20,
   "id": "e150c03b-f5e9-4980-8d19-a54d885a1d50",
   "metadata": {},
   "outputs": [
    {
     "data": {
      "image/png": "[encoded data removed]",
      "text/plain": [
       "<Figure size 640x480 with 1 Axes>"
      ]
     },
     "metadata": {},
     "output_type": "display_data"
    }
   ],
   "source": [
    "plt.plot(y_test, color = 'red', label = 'Actual Stock Price')\n",
    "plt.plot(predicted_price, color = 'green', label = 'Predicted Stock Price')\n",
    "plt.title('Google stock price prediction')\n",
    "plt.xlabel('Time')\n",
    "plt.ylabel('Stock Price')\n",
    "plt.legend()\n",
    "plt.show()"
   ]
  },
  {
   "cell_type": "code",
   "execution_count": null,
   "id": "cba061c4-576d-4283-9cd4-982a2df64055",
   "metadata": {},
   "outputs": [],
   "source": []
  }
 ],
 "metadata": {
  "kernelspec": {
   "display_name": "base",
   "language": "python",
   "name": "python3"
  },
  "language_info": {
   "codemirror_mode": {
    "name": "ipython",
    "version": 3
   },
   "file_extension": ".py",
   "mimetype": "text/x-python",
   "name": "python",
   "nbconvert_exporter": "python",
   "pygments_lexer": "ipython3",
   "version": "3.12.8"
  }
 },
 "nbformat": 4,
 "nbformat_minor": 5
}
